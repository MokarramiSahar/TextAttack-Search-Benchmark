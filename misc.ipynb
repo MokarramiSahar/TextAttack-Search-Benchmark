{
 "cells": [
  {
   "cell_type": "code",
   "execution_count": 4,
   "metadata": {},
   "outputs": [],
   "source": [
    "import os\n",
    "import pickle\n",
    "import textattack\n",
    "!cd ~/qdata/textattack/search-benchmark-adversarial-nlp"
   ]
  },
  {
   "cell_type": "code",
   "execution_count": 6,
   "metadata": {},
   "outputs": [
    {
     "ename": "FileNotFoundError",
     "evalue": "[Errno 2] No such file or directory: './end-checkpoints/bert-snli-test/word-swap-hownet/lax'",
     "output_type": "error",
     "traceback": [
      "\u001b[0;31m---------------------------------------------------------------------------\u001b[0m",
      "\u001b[0;31mFileNotFoundError\u001b[0m                         Traceback (most recent call last)",
      "\u001b[0;32m<ipython-input-6-50e90069c32b>\u001b[0m in \u001b[0;36m<module>\u001b[0;34m\u001b[0m\n\u001b[1;32m      1\u001b[0m \u001b[0mtarget_dir\u001b[0m \u001b[0;34m=\u001b[0m \u001b[0;34m\"./end-checkpoints/bert-snli-test/word-swap-hownet/lax\"\u001b[0m\u001b[0;34m\u001b[0m\u001b[0;34m\u001b[0m\u001b[0m\n\u001b[0;32m----> 2\u001b[0;31m \u001b[0mchkpts\u001b[0m \u001b[0;34m=\u001b[0m \u001b[0;34m[\u001b[0m\u001b[0mf\u001b[0m \u001b[0;32mfor\u001b[0m \u001b[0mf\u001b[0m \u001b[0;32min\u001b[0m \u001b[0mos\u001b[0m\u001b[0;34m.\u001b[0m\u001b[0mlistdir\u001b[0m\u001b[0;34m(\u001b[0m\u001b[0mtarget_dir\u001b[0m\u001b[0;34m)\u001b[0m \u001b[0;32mif\u001b[0m \u001b[0mf\u001b[0m\u001b[0;34m.\u001b[0m\u001b[0mendswith\u001b[0m\u001b[0;34m(\u001b[0m\u001b[0;34m\"ta.chkpt\"\u001b[0m\u001b[0;34m)\u001b[0m\u001b[0;34m]\u001b[0m\u001b[0;34m\u001b[0m\u001b[0;34m\u001b[0m\u001b[0m\n\u001b[0m\u001b[1;32m      3\u001b[0m \u001b[0mchkpts\u001b[0m\u001b[0;34m.\u001b[0m\u001b[0msort\u001b[0m\u001b[0;34m(\u001b[0m\u001b[0;34m)\u001b[0m\u001b[0;34m\u001b[0m\u001b[0;34m\u001b[0m\u001b[0m\n\u001b[1;32m      4\u001b[0m \u001b[0mprint\u001b[0m\u001b[0;34m(\u001b[0m\u001b[0mlen\u001b[0m\u001b[0;34m(\u001b[0m\u001b[0mchkpts\u001b[0m\u001b[0;34m)\u001b[0m\u001b[0;34m)\u001b[0m\u001b[0;34m\u001b[0m\u001b[0;34m\u001b[0m\u001b[0m\n",
      "\u001b[0;31mFileNotFoundError\u001b[0m: [Errno 2] No such file or directory: './end-checkpoints/bert-snli-test/word-swap-hownet/lax'"
     ]
    }
   ],
   "source": [
    "target_dir = \"./end-checkpoints/bert-snli-test/word-swap-hownet/lax\"\n",
    "chkpts = [f for f in os.listdir(target_dir) if f.endswith(\"ta.chkpt\")]\n",
    "chkpts.sort()\n",
    "print(len(chkpts))"
   ]
  },
  {
   "cell_type": "code",
   "execution_count": 25,
   "metadata": {},
   "outputs": [],
   "source": [
    "for chkpt in chkpts:\n",
    "    with open(target_dir + \"/\" + chkpt, \"rb\") as f:\n",
    "        name = chkpt.replace(\"-lax\", \"\")\n",
    "        src = target_dir + \"/\" + chkpt\n",
    "        target = target_dir + \"/\" + name\n",
    "        os.rename(src, target)\n",
    "        "
   ]
  },
  {
   "cell_type": "code",
   "execution_count": 26,
   "metadata": {},
   "outputs": [
    {
     "name": "stderr",
     "output_type": "stream",
     "text": [
      "\u001b[34;1mtextattack\u001b[0m: CSVLogger exiting without calling flush().\n"
     ]
    },
    {
     "name": "stdout",
     "output_type": "stream",
     "text": [
      "greedyWIR_unk.ta.chkpt 500\n"
     ]
    }
   ],
   "source": [
    "for chkpt in chkpts:\n",
    "    with open(target_dir + \"/\" + chkpt, \"rb\") as f:\n",
    "        c = pickle.load(f)\n",
    "        c._flushed=True\n",
    "        \n",
    "    print(chkpt, c.num_failed_attacks + c.num_successful_attacks)"
   ]
  },
  {
   "cell_type": "code",
   "execution_count": 5,
   "metadata": {},
   "outputs": [],
   "source": [
    "import textattack\n",
    "exempt = [\"genetic-lax.ta.chkpt\", \"greedyWIR_del-lax.ta.chkpt\", \"greedyWIR_rand-lax.ta.chkpt\", \"genetic-strict.ta.chkpt\"]\n",
    "save_dir = \"./results/bert-snli-test/word-swap-embedding\""
   ]
  },
  {
   "cell_type": "code",
   "execution_count": 7,
   "metadata": {},
   "outputs": [
    {
     "name": "stderr",
     "output_type": "stream",
     "text": [
      "\u001b[34;1mtextattack\u001b[0m: CSVLogger exiting without calling flush().\n"
     ]
    },
    {
     "name": "stdout",
     "output_type": "stream",
     "text": [
      "./results/bert-snli-test/word-swap-embedding/lax/beam4.csv\n"
     ]
    },
    {
     "name": "stderr",
     "output_type": "stream",
     "text": [
      "\u001b[34;1mtextattack\u001b[0m: CSVLogger exiting without calling flush().\n"
     ]
    },
    {
     "name": "stdout",
     "output_type": "stream",
     "text": [
      "./results/bert-snli-test/word-swap-embedding/strict/beam4.csv\n"
     ]
    },
    {
     "name": "stderr",
     "output_type": "stream",
     "text": [
      "\u001b[34;1mtextattack\u001b[0m: CSVLogger exiting without calling flush().\n"
     ]
    },
    {
     "name": "stdout",
     "output_type": "stream",
     "text": [
      "./results/bert-snli-test/word-swap-embedding/lax/beam8.csv\n"
     ]
    },
    {
     "name": "stderr",
     "output_type": "stream",
     "text": [
      "\u001b[34;1mtextattack\u001b[0m: CSVLogger exiting without calling flush().\n"
     ]
    },
    {
     "name": "stdout",
     "output_type": "stream",
     "text": [
      "./results/bert-snli-test/word-swap-embedding/strict/beam8.csv\n"
     ]
    },
    {
     "name": "stderr",
     "output_type": "stream",
     "text": [
      "\u001b[34;1mtextattack\u001b[0m: CSVLogger exiting without calling flush().\n"
     ]
    },
    {
     "name": "stdout",
     "output_type": "stream",
     "text": [
      "./results/bert-snli-test/word-swap-embedding/lax/greedy.csv\n"
     ]
    },
    {
     "name": "stderr",
     "output_type": "stream",
     "text": [
      "\u001b[34;1mtextattack\u001b[0m: CSVLogger exiting without calling flush().\n"
     ]
    },
    {
     "name": "stdout",
     "output_type": "stream",
     "text": [
      "./results/bert-snli-test/word-swap-embedding/strict/greedy.csv\n"
     ]
    },
    {
     "name": "stderr",
     "output_type": "stream",
     "text": [
      "\u001b[34;1mtextattack\u001b[0m: CSVLogger exiting without calling flush().\n"
     ]
    },
    {
     "name": "stdout",
     "output_type": "stream",
     "text": [
      "./results/bert-snli-test/word-swap-embedding/strict/greedyWIR_delete.csv\n"
     ]
    },
    {
     "name": "stderr",
     "output_type": "stream",
     "text": [
      "\u001b[34;1mtextattack\u001b[0m: CSVLogger exiting without calling flush().\n"
     ]
    },
    {
     "name": "stdout",
     "output_type": "stream",
     "text": [
      "./results/bert-snli-test/word-swap-embedding/strict/greedyWIR_random.csv\n"
     ]
    },
    {
     "name": "stderr",
     "output_type": "stream",
     "text": [
      "\u001b[34;1mtextattack\u001b[0m: CSVLogger exiting without calling flush().\n"
     ]
    },
    {
     "name": "stdout",
     "output_type": "stream",
     "text": [
      "./results/bert-snli-test/word-swap-embedding/lax/greedyWIR_unk.csv\n"
     ]
    },
    {
     "name": "stderr",
     "output_type": "stream",
     "text": [
      "\u001b[34;1mtextattack\u001b[0m: CSVLogger exiting without calling flush().\n"
     ]
    },
    {
     "name": "stdout",
     "output_type": "stream",
     "text": [
      "./results/bert-snli-test/word-swap-embedding/strict/greedyWIR_unk.csv\n"
     ]
    }
   ],
   "source": []
  },
  {
   "cell_type": "code",
   "execution_count": 32,
   "metadata": {},
   "outputs": [
    {
     "name": "stderr",
     "output_type": "stream",
     "text": [
      "\u001b[34;1mtextattack\u001b[0m: CSVLogger exiting without calling flush().\n"
     ]
    }
   ],
   "source": [
    "target_dir = \"./end-checkpoints/bert-snli-test/word-swap-hownet/lax\"\n",
    "chkpts = [f for f in os.listdir(target_dir) if f.endswith(\"ta.chkpt\")]\n",
    "for chkpt in chkpts:\n",
    "    if chkpt == \"beam8.ta.chkpt\":\n",
    "        with open(target_dir + \"/\" + chkpt, \"rb\") as f:\n",
    "            c = pickle.load(f)\n",
    "            \n",
    "        attack_log_manager = textattack.loggers.AttackLogManager()\n",
    "        file_path = \"./results/bert-yelp-test/word-swap-embedding/strict/beam8.txt\"\n",
    "        csv_path = \"./results/bert-yelp-test/word-swap-embedding/strict/beam8.csv\"\n",
    "        attack_log_manager.add_output_file(file_path)\n",
    "        attack_log_manager.add_output_csv(csv_path, \"file\")\n",
    "        for result in c.log_manager.results:\n",
    "            attack_log_manager.log_result(result)\n",
    "        attack_log_manager.log_summary()\n",
    "        attack_log_manager.flush()"
   ]
  },
  {
   "cell_type": "code",
   "execution_count": null,
   "metadata": {},
   "outputs": [],
   "source": []
  }
 ],
 "metadata": {
  "kernelspec": {
   "display_name": "Python 3",
   "language": "python",
   "name": "python3"
  },
  "language_info": {
   "codemirror_mode": {
    "name": "ipython",
    "version": 3
   },
   "file_extension": ".py",
   "mimetype": "text/x-python",
   "name": "python",
   "nbconvert_exporter": "python",
   "pygments_lexer": "ipython3",
   "version": "3.7.7"
  }
 },
 "nbformat": 4,
 "nbformat_minor": 4
}
